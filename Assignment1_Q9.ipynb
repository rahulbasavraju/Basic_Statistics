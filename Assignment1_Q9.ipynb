{
 "cells": [
  {
   "cell_type": "code",
   "execution_count": 72,
   "id": "baf244dd",
   "metadata": {},
   "outputs": [],
   "source": [
    "import pandas as pd\n",
    "import numpy as np\n",
    "import scipy\n",
    "from scipy.stats import skew, kurtosis"
   ]
  },
  {
   "cell_type": "code",
   "execution_count": 73,
   "id": "a55a0710",
   "metadata": {},
   "outputs": [],
   "source": [
    "cars_df = pd.read_csv('/Users/rahul/Downloads/Data Science Assignments/Basic_Statistics_Level_1/Q9_a.csv')\n",
    "weight_df = pd.read_csv('/Users/rahul/Downloads/Data Science Assignments/Basic_Statistics_Level_1/Q9_b.csv')"
   ]
  },
  {
   "cell_type": "code",
   "execution_count": 74,
   "id": "325e845c",
   "metadata": {
    "scrolled": true
   },
   "outputs": [
    {
     "data": {
      "text/plain": [
       "(    Index  speed  dist\n",
       " 0       1      4     2\n",
       " 1       2      4    10\n",
       " 2       3      7     4\n",
       " 3       4      7    22\n",
       " 4       5      8    16\n",
       " 5       6      9    10\n",
       " 6       7     10    18\n",
       " 7       8     10    26\n",
       " 8       9     10    34\n",
       " 9      10     11    17\n",
       " 10     11     11    28\n",
       " 11     12     12    14\n",
       " 12     13     12    20\n",
       " 13     14     12    24\n",
       " 14     15     12    28\n",
       " 15     16     13    26\n",
       " 16     17     13    34\n",
       " 17     18     13    34\n",
       " 18     19     13    46\n",
       " 19     20     14    26\n",
       " 20     21     14    36\n",
       " 21     22     14    60\n",
       " 22     23     14    80\n",
       " 23     24     15    20\n",
       " 24     25     15    26\n",
       " 25     26     15    54\n",
       " 26     27     16    32\n",
       " 27     28     16    40\n",
       " 28     29     17    32\n",
       " 29     30     17    40\n",
       " 30     31     17    50\n",
       " 31     32     18    42\n",
       " 32     33     18    56\n",
       " 33     34     18    76\n",
       " 34     35     18    84\n",
       " 35     36     19    36\n",
       " 36     37     19    46\n",
       " 37     38     19    68\n",
       " 38     39     20    32\n",
       " 39     40     20    48\n",
       " 40     41     20    52\n",
       " 41     42     20    56\n",
       " 42     43     20    64\n",
       " 43     44     22    66\n",
       " 44     45     23    54\n",
       " 45     46     24    70\n",
       " 46     47     24    92\n",
       " 47     48     24    93\n",
       " 48     49     24   120\n",
       " 49     50     25    85,\n",
       "     Unnamed: 0          SP         WT\n",
       " 0            1  104.185353  28.762059\n",
       " 1            2  105.461264  30.466833\n",
       " 2            3  105.461264  30.193597\n",
       " 3            4  113.461264  30.632114\n",
       " 4            5  104.461264  29.889149\n",
       " ..         ...         ...        ...\n",
       " 76          77  169.598513  16.132947\n",
       " 77          78  150.576579  37.923113\n",
       " 78          79  151.598513  15.769625\n",
       " 79          80  167.944460  39.423099\n",
       " 80          81  139.840817  34.948615\n",
       " \n",
       " [81 rows x 3 columns])"
      ]
     },
     "execution_count": 74,
     "metadata": {},
     "output_type": "execute_result"
    }
   ],
   "source": [
    "cars_df, weight_df"
   ]
  },
  {
   "cell_type": "code",
   "execution_count": 75,
   "id": "8d08c15e",
   "metadata": {},
   "outputs": [],
   "source": [
    "cars_df = cars_df.set_index('Index')\n",
    "weight_df = weight_df.rename(columns = {'Unnamed: 0': 'Index'})\n",
    "weight_df = weight_df.set_index('Index')"
   ]
  },
  {
   "cell_type": "code",
   "execution_count": 76,
   "id": "58a1d845",
   "metadata": {},
   "outputs": [
    {
     "data": {
      "text/plain": [
       "(       speed  dist\n",
       " Index             \n",
       " 1          4     2\n",
       " 2          4    10\n",
       " 3          7     4\n",
       " 4          7    22\n",
       " 5          8    16\n",
       " 6          9    10\n",
       " 7         10    18\n",
       " 8         10    26\n",
       " 9         10    34\n",
       " 10        11    17\n",
       " 11        11    28\n",
       " 12        12    14\n",
       " 13        12    20\n",
       " 14        12    24\n",
       " 15        12    28\n",
       " 16        13    26\n",
       " 17        13    34\n",
       " 18        13    34\n",
       " 19        13    46\n",
       " 20        14    26\n",
       " 21        14    36\n",
       " 22        14    60\n",
       " 23        14    80\n",
       " 24        15    20\n",
       " 25        15    26\n",
       " 26        15    54\n",
       " 27        16    32\n",
       " 28        16    40\n",
       " 29        17    32\n",
       " 30        17    40\n",
       " 31        17    50\n",
       " 32        18    42\n",
       " 33        18    56\n",
       " 34        18    76\n",
       " 35        18    84\n",
       " 36        19    36\n",
       " 37        19    46\n",
       " 38        19    68\n",
       " 39        20    32\n",
       " 40        20    48\n",
       " 41        20    52\n",
       " 42        20    56\n",
       " 43        20    64\n",
       " 44        22    66\n",
       " 45        23    54\n",
       " 46        24    70\n",
       " 47        24    92\n",
       " 48        24    93\n",
       " 49        24   120\n",
       " 50        25    85,\n",
       "                SP         WT\n",
       " Index                       \n",
       " 1      104.185353  28.762059\n",
       " 2      105.461264  30.466833\n",
       " 3      105.461264  30.193597\n",
       " 4      113.461264  30.632114\n",
       " 5      104.461264  29.889149\n",
       " ...           ...        ...\n",
       " 77     169.598513  16.132947\n",
       " 78     150.576579  37.923113\n",
       " 79     151.598513  15.769625\n",
       " 80     167.944460  39.423099\n",
       " 81     139.840817  34.948615\n",
       " \n",
       " [81 rows x 2 columns])"
      ]
     },
     "execution_count": 76,
     "metadata": {},
     "output_type": "execute_result"
    }
   ],
   "source": [
    "cars_df, weight_df"
   ]
  },
  {
   "cell_type": "code",
   "execution_count": 77,
   "id": "276b558d",
   "metadata": {},
   "outputs": [
    {
     "name": "stdout",
     "output_type": "stream",
     "text": [
      "[-0.11395477  0.78248352]\n",
      "[-0.57714742  0.24801866]\n"
     ]
    }
   ],
   "source": [
    "print(skew(cars_df, axis=0, bias=True))\n",
    "print(kurtosis(cars_df, axis=0, bias=True))"
   ]
  },
  {
   "cell_type": "markdown",
   "id": "a54c7d33",
   "metadata": {},
   "source": [
    "Skew(Speed): -0.11395477\n",
    "Skew(Distance): 0.78248352\n",
    "Kurtosis(Speed): -0.57714742\n",
    "Krtosis(Distance): 0.24801866"
   ]
  },
  {
   "cell_type": "code",
   "execution_count": 78,
   "id": "0752b11c",
   "metadata": {
    "scrolled": true
   },
   "outputs": [
    {
     "name": "stdout",
     "output_type": "stream",
     "text": [
      "[ 1.58145368 -0.60330993]\n",
      "[2.72352149 0.81946588]\n"
     ]
    }
   ],
   "source": [
    "print(skew(weight_df, axis=0, bias=True))\n",
    "print(kurtosis(weight_df, axis=0, bias=True))"
   ]
  },
  {
   "cell_type": "markdown",
   "id": "c0002b87",
   "metadata": {},
   "source": [
    "Skew(SP): 1.58145368\n",
    "Skew(Weight): -0.60330993\n",
    "Kurtosis(SP): 2.72352149\n",
    "Krtosis(Weight): 0.81946588"
   ]
  },
  {
   "cell_type": "code",
   "execution_count": null,
   "id": "1ae905b1",
   "metadata": {},
   "outputs": [],
   "source": []
  }
 ],
 "metadata": {
  "kernelspec": {
   "display_name": "Python 3 (ipykernel)",
   "language": "python",
   "name": "python3"
  },
  "language_info": {
   "codemirror_mode": {
    "name": "ipython",
    "version": 3
   },
   "file_extension": ".py",
   "mimetype": "text/x-python",
   "name": "python",
   "nbconvert_exporter": "python",
   "pygments_lexer": "ipython3",
   "version": "3.9.13"
  }
 },
 "nbformat": 4,
 "nbformat_minor": 5
}
